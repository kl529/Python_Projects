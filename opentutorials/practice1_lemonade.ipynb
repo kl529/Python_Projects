{
  "nbformat": 4,
  "nbformat_minor": 0,
  "metadata": {
    "colab": {
      "name": "practice1-lemonade.ipynb",
      "provenance": [],
      "collapsed_sections": [],
      "authorship_tag": "ABX9TyNQt7m9QV/N97AE0JU4xB0c",
      "include_colab_link": true
    },
    "kernelspec": {
      "name": "python3",
      "display_name": "Python 3"
    }
  },
  "cells": [
    {
      "cell_type": "markdown",
      "metadata": {
        "id": "view-in-github",
        "colab_type": "text"
      },
      "source": [
        "<a href=\"https://colab.research.google.com/github/kl529/Python_Data-analysis/blob/master/opentutorials/practice1_lemonade.ipynb\" target=\"_parent\"><img src=\"https://colab.research.google.com/assets/colab-badge.svg\" alt=\"Open In Colab\"/></a>"
      ]
    },
    {
      "cell_type": "code",
      "metadata": {
        "id": "m--Mqe37d9x7",
        "colab_type": "code",
        "colab": {}
      },
      "source": [
        "import pandas as pd\n",
        "import tensorflow as tf"
      ],
      "execution_count": null,
      "outputs": []
    },
    {
      "cell_type": "code",
      "metadata": {
        "id": "3UZJR3GBeAsC",
        "colab_type": "code",
        "colab": {}
      },
      "source": [
        "# 파일로부터 데이터 읽어오기\n",
        "파일경로 = 'https://raw.githubusercontent.com/blackdew/tensorflow1/master/csv/lemonade.csv'\n",
        "레모네이드 = pd.read_csv(파일경로)\n",
        "\n",
        "파일경로 = 'https://raw.githubusercontent.com/blackdew/tensorflow1/master/csv/boston.csv'\n",
        "보스턴 = pd.read_csv(파일경로)\n",
        "\n",
        "파일경로 = 'https://raw.githubusercontent.com/blackdew/tensorflow1/master/csv/iris.csv'\n",
        "아이리스 = pd.read_csv(파일경로)"
      ],
      "execution_count": null,
      "outputs": []
    },
    {
      "cell_type": "code",
      "metadata": {
        "id": "3DjPQp22ghbx",
        "colab_type": "code",
        "colab": {
          "base_uri": "https://localhost:8080/",
          "height": 35
        },
        "outputId": "5fe84936-68e8-400e-a4e0-2a334fd75f4f"
      },
      "source": [
        "파일경로 = 'https://raw.githubusercontent.com/blackdew/tensorflow1/master/csv/lemonade.csv'\n",
        "레모네이드 = pd.read_csv(파일경로)\n",
        "레모네이드.head()\n",
        "# 종속변수, 독립변수\n",
        "독립 = 레모네이드[['온도']]\n",
        "종속 = 레모네이드[['판매량']]\n",
        "print(독립.shape, 종속.shape)\n"
      ],
      "execution_count": null,
      "outputs": [
        {
          "output_type": "stream",
          "text": [
            "(6, 1) (6, 1)\n"
          ],
          "name": "stdout"
        }
      ]
    },
    {
      "cell_type": "code",
      "metadata": {
        "id": "M8IJ6RXdgkYl",
        "colab_type": "code",
        "colab": {}
      },
      "source": [
        "###########################\n",
        "# 모델을 만듭니다.\n",
        "X = tf.keras.layers.Input(shape=[1])\n",
        "Y = tf.keras.layers.Dense(1)(X)\n",
        "model = tf.keras.models.Model(X, Y)\n",
        "model.compile(loss='mse')\n",
        "\n"
      ],
      "execution_count": null,
      "outputs": []
    },
    {
      "cell_type": "code",
      "metadata": {
        "id": "_dcYIIpBgl8U",
        "colab_type": "code",
        "colab": {
          "base_uri": "https://localhost:8080/",
          "height": 503
        },
        "outputId": "5a590a52-7b60-4191-8745-61341bb4c112"
      },
      "source": [
        "###########################\n",
        "# 모델을 학습시킵니다. \n",
        "model.fit(독립, 종속, epochs=1000, verbose=0)\n",
        "model.fit(독립, 종속, epochs=10)\n",
        " \n",
        "###########################\n",
        "# 모델을 이용합니다. \n",
        "print(model.predict(독립))\n",
        "print(model.predict([[15]]))"
      ],
      "execution_count": null,
      "outputs": [
        {
          "output_type": "stream",
          "text": [
            "Epoch 1/10\n",
            "1/1 [==============================] - 0s 1ms/step - loss: 621.3494\n",
            "Epoch 2/10\n",
            "1/1 [==============================] - 0s 2ms/step - loss: 620.1852\n",
            "Epoch 3/10\n",
            "1/1 [==============================] - 0s 2ms/step - loss: 619.0220\n",
            "Epoch 4/10\n",
            "1/1 [==============================] - 0s 2ms/step - loss: 617.8600\n",
            "Epoch 5/10\n",
            "1/1 [==============================] - 0s 2ms/step - loss: 616.6990\n",
            "Epoch 6/10\n",
            "1/1 [==============================] - 0s 2ms/step - loss: 615.5392\n",
            "Epoch 7/10\n",
            "1/1 [==============================] - 0s 3ms/step - loss: 614.3806\n",
            "Epoch 8/10\n",
            "1/1 [==============================] - 0s 1ms/step - loss: 613.2230\n",
            "Epoch 9/10\n",
            "1/1 [==============================] - 0s 946us/step - loss: 612.0665\n",
            "Epoch 10/10\n",
            "1/1 [==============================] - 0s 2ms/step - loss: 610.9111\n",
            "[[18.231236]\n",
            " [19.092138]\n",
            " [19.953043]\n",
            " [20.813948]\n",
            " [21.674852]\n",
            " [22.535757]]\n",
            "[[13.926712]]\n"
          ],
          "name": "stdout"
        }
      ]
    },
    {
      "cell_type": "code",
      "metadata": {
        "id": "G-vCy0xAg8b-",
        "colab_type": "code",
        "colab": {}
      },
      "source": [
        ""
      ],
      "execution_count": null,
      "outputs": []
    }
  ]
}